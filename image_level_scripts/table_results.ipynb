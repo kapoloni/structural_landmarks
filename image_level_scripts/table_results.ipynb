{
 "cells": [
  {
   "cell_type": "code",
   "execution_count": 1,
   "metadata": {},
   "outputs": [],
   "source": [
    "import pandas as pd\n",
    "import numpy as np\n",
    "import pickle\n",
    "import os"
   ]
  },
  {
   "cell_type": "code",
   "execution_count": 2,
   "metadata": {},
   "outputs": [],
   "source": [
    "result_folder = os.path.join(\"..\", \"experiment_cmpb\", \"hippocampus\",\n",
    "                             \"fold\", 'image_results')\n",
    "exps = ['cn_ad', 'cn_mci', 'mci_ad']\n",
    "fts = ['gm', 'wm', 'csf', 'tissues']\n",
    "folds = range(10)"
   ]
  },
  {
   "cell_type": "code",
   "execution_count": 3,
   "metadata": {},
   "outputs": [],
   "source": [
    "class ColumnExtractor(object):\n",
    "    def __init__(self, str_):\n",
    "        self.str_ = str_\n",
    "\n",
    "    def transform(self, X):\n",
    "        return X.iloc[:, X.columns.str.contains(self.str_)]\n",
    "\n",
    "    def fit(self, X, y=None):\n",
    "        return self"
   ]
  },
  {
   "cell_type": "code",
   "execution_count": 4,
   "metadata": {
    "tags": []
   },
   "outputs": [
    {
     "output_type": "execute_result",
     "data": {
      "text/plain": [
       "      train        f1       acc      bacc      sens       spe       auc  \\\n",
       "0  0.945294  0.904762  0.923077  0.920123  0.904762  0.935484  0.963134   \n",
       "1  0.904602  0.782609  0.807692  0.815668  0.857143  0.774194  0.937020   \n",
       "2  0.959781  0.857143  0.884615  0.880184  0.857143  0.903226  0.958525   \n",
       "3  0.968706  0.857143  0.884615  0.880184  0.857143  0.903226  0.975422   \n",
       "4  0.954671  0.772727  0.803922  0.804762  0.809524  0.800000  0.915873   \n",
       "5  0.908500  0.780488  0.823529  0.814286  0.761905  0.866667  0.898413   \n",
       "6  0.958598  0.818182  0.843137  0.845238  0.857143  0.833333  0.952381   \n",
       "7  0.973023  0.850000  0.882353  0.871429  0.809524  0.933333  0.946032   \n",
       "8  0.938757  0.878049  0.901961  0.895238  0.857143  0.933333  0.969841   \n",
       "9  0.895245  0.829268  0.862745  0.854762  0.809524  0.900000  0.934921   \n",
       "\n",
       "     exp  fold       ft  \n",
       "0  cn_ad     0       gm  \n",
       "1  cn_ad     0       wm  \n",
       "2  cn_ad     0      csf  \n",
       "3  cn_ad     0  tissues  \n",
       "4  cn_ad     1       gm  \n",
       "5  cn_ad     1       wm  \n",
       "6  cn_ad     1      csf  \n",
       "7  cn_ad     1  tissues  \n",
       "8  cn_ad     2       gm  \n",
       "9  cn_ad     2       wm  "
      ],
      "text/html": "<div>\n<style scoped>\n    .dataframe tbody tr th:only-of-type {\n        vertical-align: middle;\n    }\n\n    .dataframe tbody tr th {\n        vertical-align: top;\n    }\n\n    .dataframe thead th {\n        text-align: right;\n    }\n</style>\n<table border=\"1\" class=\"dataframe\">\n  <thead>\n    <tr style=\"text-align: right;\">\n      <th></th>\n      <th>train</th>\n      <th>f1</th>\n      <th>acc</th>\n      <th>bacc</th>\n      <th>sens</th>\n      <th>spe</th>\n      <th>auc</th>\n      <th>exp</th>\n      <th>fold</th>\n      <th>ft</th>\n    </tr>\n  </thead>\n  <tbody>\n    <tr>\n      <td>0</td>\n      <td>0.945294</td>\n      <td>0.904762</td>\n      <td>0.923077</td>\n      <td>0.920123</td>\n      <td>0.904762</td>\n      <td>0.935484</td>\n      <td>0.963134</td>\n      <td>cn_ad</td>\n      <td>0</td>\n      <td>gm</td>\n    </tr>\n    <tr>\n      <td>1</td>\n      <td>0.904602</td>\n      <td>0.782609</td>\n      <td>0.807692</td>\n      <td>0.815668</td>\n      <td>0.857143</td>\n      <td>0.774194</td>\n      <td>0.937020</td>\n      <td>cn_ad</td>\n      <td>0</td>\n      <td>wm</td>\n    </tr>\n    <tr>\n      <td>2</td>\n      <td>0.959781</td>\n      <td>0.857143</td>\n      <td>0.884615</td>\n      <td>0.880184</td>\n      <td>0.857143</td>\n      <td>0.903226</td>\n      <td>0.958525</td>\n      <td>cn_ad</td>\n      <td>0</td>\n      <td>csf</td>\n    </tr>\n    <tr>\n      <td>3</td>\n      <td>0.968706</td>\n      <td>0.857143</td>\n      <td>0.884615</td>\n      <td>0.880184</td>\n      <td>0.857143</td>\n      <td>0.903226</td>\n      <td>0.975422</td>\n      <td>cn_ad</td>\n      <td>0</td>\n      <td>tissues</td>\n    </tr>\n    <tr>\n      <td>4</td>\n      <td>0.954671</td>\n      <td>0.772727</td>\n      <td>0.803922</td>\n      <td>0.804762</td>\n      <td>0.809524</td>\n      <td>0.800000</td>\n      <td>0.915873</td>\n      <td>cn_ad</td>\n      <td>1</td>\n      <td>gm</td>\n    </tr>\n    <tr>\n      <td>5</td>\n      <td>0.908500</td>\n      <td>0.780488</td>\n      <td>0.823529</td>\n      <td>0.814286</td>\n      <td>0.761905</td>\n      <td>0.866667</td>\n      <td>0.898413</td>\n      <td>cn_ad</td>\n      <td>1</td>\n      <td>wm</td>\n    </tr>\n    <tr>\n      <td>6</td>\n      <td>0.958598</td>\n      <td>0.818182</td>\n      <td>0.843137</td>\n      <td>0.845238</td>\n      <td>0.857143</td>\n      <td>0.833333</td>\n      <td>0.952381</td>\n      <td>cn_ad</td>\n      <td>1</td>\n      <td>csf</td>\n    </tr>\n    <tr>\n      <td>7</td>\n      <td>0.973023</td>\n      <td>0.850000</td>\n      <td>0.882353</td>\n      <td>0.871429</td>\n      <td>0.809524</td>\n      <td>0.933333</td>\n      <td>0.946032</td>\n      <td>cn_ad</td>\n      <td>1</td>\n      <td>tissues</td>\n    </tr>\n    <tr>\n      <td>8</td>\n      <td>0.938757</td>\n      <td>0.878049</td>\n      <td>0.901961</td>\n      <td>0.895238</td>\n      <td>0.857143</td>\n      <td>0.933333</td>\n      <td>0.969841</td>\n      <td>cn_ad</td>\n      <td>2</td>\n      <td>gm</td>\n    </tr>\n    <tr>\n      <td>9</td>\n      <td>0.895245</td>\n      <td>0.829268</td>\n      <td>0.862745</td>\n      <td>0.854762</td>\n      <td>0.809524</td>\n      <td>0.900000</td>\n      <td>0.934921</td>\n      <td>cn_ad</td>\n      <td>2</td>\n      <td>wm</td>\n    </tr>\n  </tbody>\n</table>\n</div>"
     },
     "metadata": {},
     "execution_count": 4
    }
   ],
   "source": [
    "results = []\n",
    "for exp in exps:\n",
    "    for fold in folds:\n",
    "        path = os.path.join(result_folder.replace(\"fold\", str(fold)), exp, \"clf.pickle\")\n",
    "\n",
    "        infile = open(path, 'rb')\n",
    "        new_dict = pickle.load(infile)\n",
    "        infile.close()\n",
    "        for j in range(len(new_dict)):\n",
    "            res = new_dict[j]['scores']\n",
    "            res['exp'] = exp\n",
    "            res['fold'] = fold\n",
    "            res['ft'] = new_dict[j]['fts']\n",
    "            \n",
    "            results.append(res)\n",
    "results = pd.DataFrame(results)\n",
    "results.head(10)"
   ]
  },
  {
   "cell_type": "code",
   "execution_count": 5,
   "metadata": {},
   "outputs": [],
   "source": [
    "def print_mean_results(dt, exp, round=3):\n",
    "    cols = ['auc', 'acc', 'sens', 'spe', 'f1', 'ft']\n",
    "    dt = dt[dt['exp']==exp][cols]\n",
    "    means = (dt.groupby(['ft']).mean()*100).round(round)\n",
    "    stds = (dt.groupby(['ft']).std(ddof=0)*100).round(round)\n",
    "    metrics = means.columns.values\n",
    "    fts = means.index.values\n",
    "    results = means.copy()\n",
    "    for metric in metrics:\n",
    "        for ft in fts:\n",
    "            if metric in ['auc', 'f1']:\n",
    "                means.loc[ft, metric] = (means.loc[ft, metric]/100).round(round)\n",
    "                stds.loc[ft, metric] = (stds.loc[ft, metric]/100).round(round)\n",
    "            results.loc[ft, metric] = str(means.loc[ft, metric]) + \\\n",
    "                                      ' +- ' + str(stds.loc[ft, metric])\n",
    "    return results"
   ]
  },
  {
   "cell_type": "code",
   "execution_count": 6,
   "metadata": {},
   "outputs": [],
   "source": [
    "def get_latex_table(dt, exp, round=3):\n",
    "\n",
    "    fts_name = {'gm':'GM', \n",
    "                'wm': 'WM',\n",
    "                'csf': 'CSF',\n",
    "                'tissues': 'GM\\&WM\\&CSF'}\n",
    "    \n",
    "    cols = ['auc', 'acc', 'sens', 'spe', 'f1', 'ft']\n",
    "    dt = dt[dt['exp']==exp][cols]\n",
    "    means = (dt.groupby(['ft']).mean()*100).round(round)\n",
    "    stds = (dt.groupby(['ft']).std(ddof=0)*100).round(round)\n",
    "    metrics = means.columns.values\n",
    "    fts = means.index.values\n",
    "    \n",
    "    for ft in fts:\n",
    "        text = \"\\\\textbf{\"+fts_name[ft]+\"}\"\n",
    "        for metric in metrics:\n",
    "            if metric in ['auc', 'f1']:\n",
    "                means.loc[ft, metric] = (means.loc[ft, metric]/100).round(round)\n",
    "                stds.loc[ft, metric] = (stds.loc[ft, metric]/100).round(round)\n",
    "\n",
    "            text += ' & $' + str(means.loc[ft, metric]).replace(\".\", ',') + \\\n",
    "                    \"\\pm\" + str(stds.loc[ft, metric]).replace(\".\", ',')+\"$ \"\n",
    "        text += \"\\\\tabularnewline\"\n",
    "        print(text)\n",
    "        print(\"\\midrule\")"
   ]
  },
  {
   "cell_type": "code",
   "execution_count": 7,
   "metadata": {},
   "outputs": [
    {
     "output_type": "stream",
     "name": "stdout",
     "text": [
      "cn_ad\n"
     ]
    },
    {
     "output_type": "display_data",
     "data": {
      "text/plain": "                  auc            acc           sens            spe  \\\nft                                                                   \ncsf      0.94 +- 0.04   86.3 +- 4.12  83.67 +- 7.97   88.08 +- 6.0   \ngm       0.94 +- 0.03  87.47 +- 3.96   85.1 +- 6.52   89.04 +- 6.0   \ntissues  0.95 +- 0.03  89.24 +- 4.04   85.57 +- 8.5   91.72 +- 5.0   \nwm        0.9 +- 0.03  80.82 +- 4.19   80.86 +- 3.7  80.78 +- 8.54   \n\n                   f1  \nft                     \ncsf      0.83 +- 0.05  \ngm       0.85 +- 0.05  \ntissues  0.87 +- 0.05  \nwm       0.78 +- 0.03  ",
      "text/html": "<div>\n<style scoped>\n    .dataframe tbody tr th:only-of-type {\n        vertical-align: middle;\n    }\n\n    .dataframe tbody tr th {\n        vertical-align: top;\n    }\n\n    .dataframe thead th {\n        text-align: right;\n    }\n</style>\n<table border=\"1\" class=\"dataframe\">\n  <thead>\n    <tr style=\"text-align: right;\">\n      <th></th>\n      <th>auc</th>\n      <th>acc</th>\n      <th>sens</th>\n      <th>spe</th>\n      <th>f1</th>\n    </tr>\n    <tr>\n      <th>ft</th>\n      <th></th>\n      <th></th>\n      <th></th>\n      <th></th>\n      <th></th>\n    </tr>\n  </thead>\n  <tbody>\n    <tr>\n      <td>csf</td>\n      <td>0.94 +- 0.04</td>\n      <td>86.3 +- 4.12</td>\n      <td>83.67 +- 7.97</td>\n      <td>88.08 +- 6.0</td>\n      <td>0.83 +- 0.05</td>\n    </tr>\n    <tr>\n      <td>gm</td>\n      <td>0.94 +- 0.03</td>\n      <td>87.47 +- 3.96</td>\n      <td>85.1 +- 6.52</td>\n      <td>89.04 +- 6.0</td>\n      <td>0.85 +- 0.05</td>\n    </tr>\n    <tr>\n      <td>tissues</td>\n      <td>0.95 +- 0.03</td>\n      <td>89.24 +- 4.04</td>\n      <td>85.57 +- 8.5</td>\n      <td>91.72 +- 5.0</td>\n      <td>0.87 +- 0.05</td>\n    </tr>\n    <tr>\n      <td>wm</td>\n      <td>0.9 +- 0.03</td>\n      <td>80.82 +- 4.19</td>\n      <td>80.86 +- 3.7</td>\n      <td>80.78 +- 8.54</td>\n      <td>0.78 +- 0.03</td>\n    </tr>\n  </tbody>\n</table>\n</div>"
     },
     "metadata": {}
    },
    {
     "output_type": "stream",
     "name": "stdout",
     "text": [
      "cn_mci\n"
     ]
    },
    {
     "output_type": "display_data",
     "data": {
      "text/plain": "                  auc            acc           sens            spe  \\\nft                                                                   \ncsf      0.82 +- 0.04  74.87 +- 3.44  74.14 +- 7.03  75.51 +- 6.12   \ngm        0.8 +- 0.06   74.69 +- 5.3  70.57 +- 9.76  78.12 +- 8.36   \ntissues  0.83 +- 0.05  75.58 +- 3.57  72.94 +- 8.41  77.81 +- 6.84   \nwm       0.77 +- 0.04  70.35 +- 4.52  69.69 +- 9.22  70.87 +- 7.66   \n\n                   f1  \nft                     \ncsf      0.73 +- 0.04  \ngm       0.72 +- 0.06  \ntissues  0.73 +- 0.04  \nwm       0.68 +- 0.06  ",
      "text/html": "<div>\n<style scoped>\n    .dataframe tbody tr th:only-of-type {\n        vertical-align: middle;\n    }\n\n    .dataframe tbody tr th {\n        vertical-align: top;\n    }\n\n    .dataframe thead th {\n        text-align: right;\n    }\n</style>\n<table border=\"1\" class=\"dataframe\">\n  <thead>\n    <tr style=\"text-align: right;\">\n      <th></th>\n      <th>auc</th>\n      <th>acc</th>\n      <th>sens</th>\n      <th>spe</th>\n      <th>f1</th>\n    </tr>\n    <tr>\n      <th>ft</th>\n      <th></th>\n      <th></th>\n      <th></th>\n      <th></th>\n      <th></th>\n    </tr>\n  </thead>\n  <tbody>\n    <tr>\n      <td>csf</td>\n      <td>0.82 +- 0.04</td>\n      <td>74.87 +- 3.44</td>\n      <td>74.14 +- 7.03</td>\n      <td>75.51 +- 6.12</td>\n      <td>0.73 +- 0.04</td>\n    </tr>\n    <tr>\n      <td>gm</td>\n      <td>0.8 +- 0.06</td>\n      <td>74.69 +- 5.3</td>\n      <td>70.57 +- 9.76</td>\n      <td>78.12 +- 8.36</td>\n      <td>0.72 +- 0.06</td>\n    </tr>\n    <tr>\n      <td>tissues</td>\n      <td>0.83 +- 0.05</td>\n      <td>75.58 +- 3.57</td>\n      <td>72.94 +- 8.41</td>\n      <td>77.81 +- 6.84</td>\n      <td>0.73 +- 0.04</td>\n    </tr>\n    <tr>\n      <td>wm</td>\n      <td>0.77 +- 0.04</td>\n      <td>70.35 +- 4.52</td>\n      <td>69.69 +- 9.22</td>\n      <td>70.87 +- 7.66</td>\n      <td>0.68 +- 0.06</td>\n    </tr>\n  </tbody>\n</table>\n</div>"
     },
     "metadata": {}
    },
    {
     "output_type": "stream",
     "name": "stdout",
     "text": [
      "mci_ad\n"
     ]
    },
    {
     "output_type": "display_data",
     "data": {
      "text/plain": "                  auc            acc            sens             spe  \\\nft                                                                     \ncsf      0.72 +- 0.07  66.96 +- 8.34  66.14 +- 10.45    67.9 +- 8.69   \ngm       0.66 +- 0.15  66.75 +- 6.03  73.74 +- 12.95  58.36 +- 17.47   \ntissues  0.73 +- 0.07   69.8 +- 6.73    74.09 +- 6.3  64.57 +- 11.17   \nwm        0.7 +- 0.09  67.64 +- 8.08   74.2 +- 11.75  59.79 +- 10.12   \n\n                   f1  \nft                     \ncsf      0.68 +- 0.09  \ngm        0.7 +- 0.06  \ntissues  0.73 +- 0.06  \nwm       0.71 +- 0.08  ",
      "text/html": "<div>\n<style scoped>\n    .dataframe tbody tr th:only-of-type {\n        vertical-align: middle;\n    }\n\n    .dataframe tbody tr th {\n        vertical-align: top;\n    }\n\n    .dataframe thead th {\n        text-align: right;\n    }\n</style>\n<table border=\"1\" class=\"dataframe\">\n  <thead>\n    <tr style=\"text-align: right;\">\n      <th></th>\n      <th>auc</th>\n      <th>acc</th>\n      <th>sens</th>\n      <th>spe</th>\n      <th>f1</th>\n    </tr>\n    <tr>\n      <th>ft</th>\n      <th></th>\n      <th></th>\n      <th></th>\n      <th></th>\n      <th></th>\n    </tr>\n  </thead>\n  <tbody>\n    <tr>\n      <td>csf</td>\n      <td>0.72 +- 0.07</td>\n      <td>66.96 +- 8.34</td>\n      <td>66.14 +- 10.45</td>\n      <td>67.9 +- 8.69</td>\n      <td>0.68 +- 0.09</td>\n    </tr>\n    <tr>\n      <td>gm</td>\n      <td>0.66 +- 0.15</td>\n      <td>66.75 +- 6.03</td>\n      <td>73.74 +- 12.95</td>\n      <td>58.36 +- 17.47</td>\n      <td>0.7 +- 0.06</td>\n    </tr>\n    <tr>\n      <td>tissues</td>\n      <td>0.73 +- 0.07</td>\n      <td>69.8 +- 6.73</td>\n      <td>74.09 +- 6.3</td>\n      <td>64.57 +- 11.17</td>\n      <td>0.73 +- 0.06</td>\n    </tr>\n    <tr>\n      <td>wm</td>\n      <td>0.7 +- 0.09</td>\n      <td>67.64 +- 8.08</td>\n      <td>74.2 +- 11.75</td>\n      <td>59.79 +- 10.12</td>\n      <td>0.71 +- 0.08</td>\n    </tr>\n  </tbody>\n</table>\n</div>"
     },
     "metadata": {}
    }
   ],
   "source": [
    "for exp in exps:\n",
    "    print(exp)\n",
    "    display(print_mean_results(results, exp, round=2))"
   ]
  },
  {
   "cell_type": "code",
   "execution_count": 8,
   "metadata": {},
   "outputs": [
    {
     "output_type": "stream",
     "name": "stdout",
     "text": [
      "cn_ad\n\\textbf{CSF} & $0,94\\pm0,04$  & $86,3\\pm4,12$  & $83,67\\pm7,97$  & $88,08\\pm6,0$  & $0,83\\pm0,05$ \\tabularnewline\n\\midrule\n\\textbf{GM} & $0,94\\pm0,03$  & $87,47\\pm3,96$  & $85,1\\pm6,52$  & $89,04\\pm6,0$  & $0,85\\pm0,05$ \\tabularnewline\n\\midrule\n\\textbf{GM\\&WM\\&CSF} & $0,95\\pm0,03$  & $89,24\\pm4,04$  & $85,57\\pm8,5$  & $91,72\\pm5,0$  & $0,87\\pm0,05$ \\tabularnewline\n\\midrule\n\\textbf{WM} & $0,9\\pm0,03$  & $80,82\\pm4,19$  & $80,86\\pm3,7$  & $80,78\\pm8,54$  & $0,78\\pm0,03$ \\tabularnewline\n\\midrule\n"
     ]
    },
    {
     "output_type": "display_data",
     "data": {
      "text/plain": "None"
     },
     "metadata": {}
    },
    {
     "output_type": "stream",
     "name": "stdout",
     "text": [
      "cn_mci\n\\textbf{CSF} & $0,82\\pm0,04$  & $74,87\\pm3,44$  & $74,14\\pm7,03$  & $75,51\\pm6,12$  & $0,73\\pm0,04$ \\tabularnewline\n\\midrule\n\\textbf{GM} & $0,8\\pm0,06$  & $74,69\\pm5,3$  & $70,57\\pm9,76$  & $78,12\\pm8,36$  & $0,72\\pm0,06$ \\tabularnewline\n\\midrule\n\\textbf{GM\\&WM\\&CSF} & $0,83\\pm0,05$  & $75,58\\pm3,57$  & $72,94\\pm8,41$  & $77,81\\pm6,84$  & $0,73\\pm0,04$ \\tabularnewline\n\\midrule\n\\textbf{WM} & $0,77\\pm0,04$  & $70,35\\pm4,52$  & $69,69\\pm9,22$  & $70,87\\pm7,66$  & $0,68\\pm0,06$ \\tabularnewline\n\\midrule\n"
     ]
    },
    {
     "output_type": "display_data",
     "data": {
      "text/plain": "None"
     },
     "metadata": {}
    },
    {
     "output_type": "stream",
     "name": "stdout",
     "text": [
      "mci_ad\n\\textbf{CSF} & $0,72\\pm0,07$  & $66,96\\pm8,34$  & $66,14\\pm10,45$  & $67,9\\pm8,69$  & $0,68\\pm0,09$ \\tabularnewline\n\\midrule\n\\textbf{GM} & $0,66\\pm0,15$  & $66,75\\pm6,03$  & $73,74\\pm12,95$  & $58,36\\pm17,47$  & $0,7\\pm0,06$ \\tabularnewline\n\\midrule\n\\textbf{GM\\&WM\\&CSF} & $0,73\\pm0,07$  & $69,8\\pm6,73$  & $74,09\\pm6,3$  & $64,57\\pm11,17$  & $0,73\\pm0,06$ \\tabularnewline\n\\midrule\n\\textbf{WM} & $0,7\\pm0,09$  & $67,64\\pm8,08$  & $74,2\\pm11,75$  & $59,79\\pm10,12$  & $0,71\\pm0,08$ \\tabularnewline\n\\midrule\n"
     ]
    },
    {
     "output_type": "display_data",
     "data": {
      "text/plain": "None"
     },
     "metadata": {}
    }
   ],
   "source": [
    "for exp in exps:\n",
    "    print(exp)\n",
    "    display(get_latex_table(results, exp, round=2))"
   ]
  },
  {
   "cell_type": "code",
   "execution_count": null,
   "metadata": {},
   "outputs": [],
   "source": []
  }
 ],
 "metadata": {
  "kernelspec": {
   "name": "python369jvsc74a57bd031f2aee4e71d21fbe5cf8b01ff0e069b9275f58929596ceb00d14d90e3e16cd6",
   "display_name": "Python 3.6.9 64-bit"
  },
  "language_info": {
   "codemirror_mode": {
    "name": "ipython",
    "version": 3
   },
   "file_extension": ".py",
   "mimetype": "text/x-python",
   "name": "python",
   "nbconvert_exporter": "python",
   "pygments_lexer": "ipython3",
   "version": "3.6.9"
  },
  "metadata": {
   "interpreter": {
    "hash": "31f2aee4e71d21fbe5cf8b01ff0e069b9275f58929596ceb00d14d90e3e16cd6"
   }
  }
 },
 "nbformat": 4,
 "nbformat_minor": 4
}